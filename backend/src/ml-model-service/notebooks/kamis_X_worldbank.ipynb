{
 "cells": [
  {
   "cell_type": "markdown",
   "id": "e9ecee94",
   "metadata": {},
   "source": [
    "# Data Processing Pipeline\n",
    "## Load and clean data"
   ]
  },
  {
   "cell_type": "code",
   "execution_count": 13,
   "id": "70432295",
   "metadata": {},
   "outputs": [
    {
     "name": "stdout",
     "output_type": "stream",
     "text": [
      "KAMIS shape: (310304, 12)\n",
      "World Bank shape: (14175, 60)\n"
     ]
    }
   ],
   "source": [
    "import pandas as pd\n",
    "import numpy as np\n",
    " \n",
    "#   Load Data\n",
    " \n",
    "kamis = pd.read_csv(\"../data/raw/kamis_data.csv\")\n",
    "wb = pd.read_csv(\"../data/raw/worldbank_data.csv\")\n",
    "\n",
    "print(\"KAMIS shape:\", kamis.shape)\n",
    "print(\"World Bank shape:\", wb.shape)\n",
    " \n",
    "#  Clean KAMIS Data\n",
    " \n",
    "kamis = kamis.dropna(subset=[\"Date\", \"Commodity\", \"Retail\"])\n",
    "\n",
    "# Convert to correct dtypes\n",
    "kamis[\"Date\"] = pd.to_datetime(kamis[\"Date\"], errors=\"coerce\")\n",
    "kamis[\"Retail\"] = pd.to_numeric(kamis[\"Retail\"], errors=\"coerce\")\n",
    "kamis[\"Wholesale\"] = pd.to_numeric(kamis[\"Wholesale\"], errors=\"coerce\")\n",
    "\n",
    " \n",
    "# Clean World Bank Data\n",
    "wb = wb[wb[\"ISO3\"] == \"KEN\"].copy()\n",
    "wb[\"price_date\"] = pd.to_datetime(wb[\"price_date\"], errors=\"coerce\")\n",
    "\n",
    "#   relevant numeric columns\n",
    "numeric_cols = [\"beans\", \"maize\", \"oil\", \"potatoes\", \"sorghum\"]\n",
    "for col in numeric_cols:\n",
    "    wb[col] = pd.to_numeric(wb[col], errors=\"coerce\")"
   ]
  },
  {
   "cell_type": "markdown",
   "id": "9d0947d8",
   "metadata": {},
   "source": [
    "## Commodity Mapping"
   ]
  },
  {
   "cell_type": "code",
   "execution_count": 14,
   "id": "ca8ff92a",
   "metadata": {},
   "outputs": [],
   "source": [
    "commodity_mapping = {\n",
    "    # Beans\n",
    "    \"Beans Rosecoco\": \"beans\",\n",
    "    \"Beans Canadian\": \"beans\",\n",
    "    \"Beans Mwitemania\": \"beans\",\n",
    "    \"Beans Mixed\": \"beans\",\n",
    "\n",
    "    # Maize\n",
    "    \"Dry Maize\": \"maize\",\n",
    "    \"Green Maize\": \"maize\",\n",
    "\n",
    "    # Oil\n",
    "    \"Cooking Oil (Salad)\": \"oil\",\n",
    "    \"Cooking Oil (Other)\": \"oil\",\n",
    "\n",
    "    # Potatoes\n",
    "    \"Irish Potatoes\": \"potatoes\",\n",
    "\n",
    "    # Sorghum\n",
    "    \"Red Sorghum\": \"sorghum\",\n",
    "    \"White Sorghum\": \"sorghum\"\n",
    "}"
   ]
  },
  {
   "cell_type": "code",
   "execution_count": 15,
   "id": "8a561c92",
   "metadata": {},
   "outputs": [],
   "source": [
    "kamis[\"commodity_group\"] = kamis[\"Commodity\"].map(commodity_mapping)"
   ]
  },
  {
   "cell_type": "markdown",
   "id": "683fb5e3",
   "metadata": {},
   "source": [
    "## Aggregating to Monthly level"
   ]
  },
  {
   "cell_type": "code",
   "execution_count": 16,
   "id": "2ab9cf55",
   "metadata": {},
   "outputs": [],
   "source": [
    "# KAMIS monthly\n",
    "kamis_monthly = kamis.groupby([\n",
    "    pd.Grouper(key=\"Date\", freq=\"M\"),\n",
    "    \"County\",\n",
    "    \"Commodity\",\n",
    "    \"commodity_group\"\n",
    "]).agg({\n",
    "    \"Retail\": [\"mean\", \"std\", \"min\", \"max\"],\n",
    "    \"Wholesale\": \"mean\"\n",
    "}).reset_index()\n",
    "\n",
    "# Flattening column names\n",
    "kamis_monthly.columns = [\n",
    "    \"date\", \"county\", \"commodity\", \"commodity_group\",\n",
    "    \"retail_mean\", \"retail_std\", \"retail_min\", \"retail_max\",\n",
    "    \"wholesale_mean\"\n",
    "]\n",
    "\n",
    "# WB monthly \n",
    "wb_monthly = wb.groupby([\n",
    "    pd.Grouper(key=\"price_date\", freq=\"M\"),\n",
    "    \"adm1_name\"\n",
    "]).agg({\n",
    "    \"beans\": \"mean\",\n",
    "    \"maize\": \"mean\",\n",
    "    \"oil\": \"mean\",\n",
    "    \"potatoes\": \"mean\",\n",
    "    \"sorghum\": \"mean\"\n",
    "}).reset_index()"
   ]
  },
  {
   "cell_type": "markdown",
   "id": "b3c0e404",
   "metadata": {},
   "source": [
    "## Merging with world bank data"
   ]
  },
  {
   "cell_type": "code",
   "execution_count": 17,
   "id": "a5f9ef01",
   "metadata": {},
   "outputs": [],
   "source": [
    "wb_long = wb_monthly.melt(\n",
    "    id_vars=[\"price_date\", \"adm1_name\"],\n",
    "    value_vars=numeric_cols,\n",
    "    var_name=\"commodity_group\",\n",
    "    value_name=\"wb_price\"\n",
    ")\n",
    "\n",
    " \n",
    "unified = pd.merge(\n",
    "    kamis_monthly,\n",
    "    wb_long,\n",
    "    left_on=[\"date\", \"commodity_group\", \"county\"],\n",
    "    right_on=[\"price_date\", \"commodity_group\", \"adm1_name\"],\n",
    "    how=\"left\"\n",
    ")"
   ]
  },
  {
   "cell_type": "markdown",
   "id": "99792e24",
   "metadata": {},
   "source": [
    "## Final Cleaning"
   ]
  },
  {
   "cell_type": "code",
   "execution_count": 18,
   "id": "f35acd18",
   "metadata": {},
   "outputs": [
    {
     "name": "stdout",
     "output_type": "stream",
     "text": [
      "Unified dataset shape: (1922, 10)\n",
      "        date     county      commodity commodity_group  retail_mean  \\\n",
      "0 2022-02-28    Bungoma  White Sorghum         sorghum          NaN   \n",
      "1 2022-02-28       Embu  White Sorghum         sorghum          NaN   \n",
      "2 2022-02-28    Garissa  White Sorghum         sorghum          NaN   \n",
      "3 2022-02-28   Kakamega  White Sorghum         sorghum          NaN   \n",
      "4 2022-02-28  Kirinyaga  White Sorghum         sorghum          NaN   \n",
      "\n",
      "   retail_std  retail_min  retail_max  wholesale_mean  wb_price  \n",
      "0         NaN         NaN         NaN             NaN       NaN  \n",
      "1         NaN         NaN         NaN             NaN       NaN  \n",
      "2         NaN         NaN         NaN             NaN       NaN  \n",
      "3         NaN         NaN         NaN             NaN       NaN  \n",
      "4         NaN         NaN         NaN             NaN       NaN  \n"
     ]
    }
   ],
   "source": [
    "unified = unified.drop(columns=[\"price_date\", \"adm1_name\"])\n",
    "unified[\"wb_price\"] = unified[\"wb_price\"].fillna(np.nan)\n",
    "\n",
    "print(\"Unified dataset shape:\", unified.shape)\n",
    "print(unified.head())\n",
    " "
   ]
  },
  {
   "cell_type": "markdown",
   "id": "2cb4eb7c",
   "metadata": {},
   "source": [
    "## Final Dataset"
   ]
  },
  {
   "cell_type": "code",
   "execution_count": 19,
   "id": "64c8e7c2",
   "metadata": {},
   "outputs": [
    {
     "name": "stdout",
     "output_type": "stream",
     "text": [
      "Unified dataset saved to unified_dataset.csv\n"
     ]
    }
   ],
   "source": [
    "unified.to_csv(\"../data/processed/unified_dataset.csv\", index=False)\n",
    "print(\"Unified dataset saved to unified_dataset.csv\")"
   ]
  },
  {
   "cell_type": "code",
   "execution_count": null,
   "id": "73817b57",
   "metadata": {},
   "outputs": [],
   "source": []
  }
 ],
 "metadata": {
  "kernelspec": {
   "display_name": "Python 3",
   "language": "python",
   "name": "python3"
  },
  "language_info": {
   "codemirror_mode": {
    "name": "ipython",
    "version": 3
   },
   "file_extension": ".py",
   "mimetype": "text/x-python",
   "name": "python",
   "nbconvert_exporter": "python",
   "pygments_lexer": "ipython3",
   "version": "3.8.8"
  }
 },
 "nbformat": 4,
 "nbformat_minor": 5
}
