{
 "cells": [
  {
   "cell_type": "markdown",
   "id": "49907218",
   "metadata": {},
   "source": [
    "# Data Processing Pipeline\n",
    "## Load and clean data"
   ]
  },
  {
   "cell_type": "code",
   "execution_count": 4,
   "id": "84e63468",
   "metadata": {},
   "outputs": [],
   "source": [
    "import pandas as pd\n",
    "import numpy as np\n",
    "\n",
    "# ---- KAMIS ----\n",
    "kamis = pd.read_csv(\"../data/raw/kamis_data.csv\")\n",
    " \n",
    "kamis = kamis.dropna(subset=[\"Date\", \"Retail\", \"Commodity\"])\n",
    "kamis[\"Date\"] = pd.to_datetime(kamis[\"Date\"], errors=\"coerce\")\n",
    "kamis[\"Retail\"] = pd.to_numeric(kamis[\"Retail\"].str.replace(\"/Kg\", \"\").str.replace(\",\", \"\"), errors=\"coerce\")\n",
    "kamis[\"Wholesale\"] = pd.to_numeric(kamis[\"Wholesale\"].str.replace(\"/Kg\", \"\").str.replace(\",\", \"\"), errors=\"coerce\")\n",
    "\n",
    "# ---- World Bank ----\n",
    "wb = pd.read_csv(\"../data/raw/worldbank_data.csv\")\n",
    "wb = wb[wb[\"ISO3\"] == \"KEN\"].copy()\n",
    "wb[\"price_date\"] = pd.to_datetime(wb[\"price_date\"], errors=\"coerce\")\n",
    "\n",
    "for col in [\"maize\", \"beans\", \"oil\", \"potatoes\", \"sorghum\"]:\n",
    "    wb[col] = pd.to_numeric(wb[col], errors=\"coerce\")\n"
   ]
  },
  {
   "cell_type": "markdown",
   "id": "b3379802",
   "metadata": {},
   "source": [
    "## Commodity Standardization"
   ]
  },
  {
   "cell_type": "code",
   "execution_count": 5,
   "id": "04700422",
   "metadata": {},
   "outputs": [],
   "source": [
    "commodity_map = {\n",
    "    \"Maize\": \"maize\",\n",
    "    \"Dry Maize\": \"maize\",\n",
    "    \"Beans (Yellow-Green)\": \"beans\",\n",
    "    \"Beans (Red)\": \"beans\",\n",
    "    \"Cooking Oil\": \"oil\",\n",
    "    \"Irish Potatoes\": \"potatoes\",\n",
    "    \"Red Sorghum\": \"sorghum\",\n",
    "    \"White Sorghum\": \"sorghum\"\n",
    "}\n",
    "\n",
    "kamis[\"commodity_clean\"] = kamis[\"Commodity\"].map(commodity_map)"
   ]
  },
  {
   "cell_type": "markdown",
   "id": "c5bec1ac",
   "metadata": {},
   "source": [
    "## Aggregating to Monthly level"
   ]
  },
  {
   "cell_type": "code",
   "execution_count": 6,
   "id": "8062a892",
   "metadata": {},
   "outputs": [],
   "source": [
    "# KAMIS monthly\n",
    "kamis_monthly = kamis.groupby([\n",
    "    pd.Grouper(key=\"Date\", freq=\"M\"),\n",
    "    \"commodity_clean\",\n",
    "    \"County\"\n",
    "]).agg(\n",
    "    retail_mean=(\"Retail\", \"mean\"),\n",
    "    retail_std=(\"Retail\", \"std\"),\n",
    "    retail_min=(\"Retail\", \"min\"),\n",
    "    retail_max=(\"Retail\", \"max\"),\n",
    "    wholesale_mean=(\"Wholesale\", \"mean\"),\n",
    "    supply_volume=(\"Supply Volume\", \"sum\")\n",
    ").reset_index()\n",
    "\n",
    "# WB monthly\n",
    "wb_monthly = wb.groupby([\n",
    "    pd.Grouper(key=\"price_date\", freq=\"M\"),\n",
    "    \"adm1_name\"\n",
    "]).agg({\n",
    "    \"maize\": \"mean\",\n",
    "    \"beans\": \"mean\",\n",
    "    \"oil\": \"mean\",\n",
    "    \"potatoes\": \"mean\",\n",
    "    \"sorghum\": \"mean\"\n",
    "}).reset_index()"
   ]
  },
  {
   "cell_type": "markdown",
   "id": "d08f943e",
   "metadata": {},
   "source": [
    "## Feature Engineering"
   ]
  },
  {
   "cell_type": "code",
   "execution_count": 7,
   "id": "e67914a1",
   "metadata": {},
   "outputs": [],
   "source": [
    "def add_time_features(df, date_col):\n",
    "    df[\"year\"] = df[date_col].dt.year\n",
    "    df[\"month\"] = df[date_col].dt.month\n",
    "    df[\"quarter\"] = df[date_col].dt.quarter\n",
    "    df[\"is_dry_season\"] = df[\"month\"].isin([12, 1, 2, 3]).astype(int)\n",
    "    df[\"is_harvest_season\"] = df[\"month\"].isin([7, 8, 9, 10]).astype(int)\n",
    "    return df\n",
    "\n",
    "kamis_monthly = add_time_features(kamis_monthly, \"Date\")"
   ]
  },
  {
   "cell_type": "code",
   "execution_count": 8,
   "id": "3a903ba4",
   "metadata": {},
   "outputs": [],
   "source": [
    "# price volatility and trends\n",
    "kamis_monthly[\"price_volatility\"] = kamis_monthly[\"retail_max\"] - kamis_monthly[\"retail_min\"]\n",
    "kamis_monthly[\"price_trend_3m\"] = kamis_monthly.groupby([\"commodity_clean\",\"County\"])[\"retail_mean\"].transform(lambda x: x.rolling(3).mean())\n",
    "kamis_monthly[\"price_change_rate\"] = kamis_monthly.groupby([\"commodity_clean\",\"County\"])[\"retail_mean\"].pct_change()"
   ]
  },
  {
   "cell_type": "markdown",
   "id": "92057161",
   "metadata": {},
   "source": [
    "## Merging with world bank data"
   ]
  },
  {
   "cell_type": "code",
   "execution_count": 9,
   "id": "f2fb2185",
   "metadata": {},
   "outputs": [],
   "source": [
    "# reshape WB\n",
    "wb_long = wb_monthly.melt(\n",
    "    id_vars=[\"price_date\", \"adm1_name\"],\n",
    "    value_vars=[\"maize\", \"beans\", \"oil\", \"potatoes\", \"sorghum\"],\n",
    "    var_name=\"commodity_clean\",\n",
    "    value_name=\"wb_price\"\n",
    ")\n",
    "\n",
    "# merge\n",
    "unified = pd.merge(\n",
    "    kamis_monthly,\n",
    "    wb_long,\n",
    "    left_on=[\"Date\", \"commodity_clean\", \"County\"],\n",
    "    right_on=[\"price_date\", \"commodity_clean\", \"adm1_name\"],\n",
    "    how=\"outer\"\n",
    ")"
   ]
  },
  {
   "cell_type": "markdown",
   "id": "4c9a38e5",
   "metadata": {},
   "source": [
    "## Adding Lag Features"
   ]
  },
  {
   "cell_type": "code",
   "execution_count": 10,
   "id": "8e90aa28",
   "metadata": {},
   "outputs": [],
   "source": [
    "for lag in [1, 3, 12]:\n",
    "    unified[f\"retail_price_lag{lag}\"] = unified.groupby([\"commodity_clean\", \"County\"])[\"retail_mean\"].shift(lag)"
   ]
  },
  {
   "cell_type": "markdown",
   "id": "48860d5a",
   "metadata": {},
   "source": [
    "## Validating Dataset"
   ]
  },
  {
   "cell_type": "code",
   "execution_count": 11,
   "id": "a1e3c9ee",
   "metadata": {},
   "outputs": [
    {
     "name": "stdout",
     "output_type": "stream",
     "text": [
      "{'rows': 10197, 'date_range': (Timestamp('2022-02-28 00:00:00'), Timestamp('2025-09-30 00:00:00')), 'missing_by_col': {'Date': 8939, 'commodity_clean': 0, 'County': 8939, 'retail_mean': 9291, 'retail_std': 9413, 'retail_min': 9291, 'retail_max': 9291, 'wholesale_mean': 9350, 'supply_volume': 8939, 'year': 8939, 'month': 8939, 'quarter': 8939, 'is_dry_season': 8939, 'is_harvest_season': 8939, 'price_volatility': 9291, 'price_trend_3m': 9472, 'price_change_rate': 9384, 'price_date': 1197, 'adm1_name': 1197, 'wb_price': 7672, 'retail_price_lag1': 9386, 'retail_price_lag3': 9544, 'retail_price_lag12': 10063}}\n"
     ]
    }
   ],
   "source": [
    "summary = {\n",
    "    \"rows\": len(unified),\n",
    "    \"date_range\": (unified[\"Date\"].min(), unified[\"Date\"].max()),\n",
    "    \"missing_by_col\": unified.isnull().sum().to_dict()\n",
    "}\n",
    "print(summary)"
   ]
  },
  {
   "cell_type": "code",
   "execution_count": null,
   "id": "8492d1f7",
   "metadata": {},
   "outputs": [],
   "source": []
  }
 ],
 "metadata": {
  "kernelspec": {
   "display_name": "Python 3",
   "language": "python",
   "name": "python3"
  },
  "language_info": {
   "codemirror_mode": {
    "name": "ipython",
    "version": 3
   },
   "file_extension": ".py",
   "mimetype": "text/x-python",
   "name": "python",
   "nbconvert_exporter": "python",
   "pygments_lexer": "ipython3",
   "version": "3.8.8"
  }
 },
 "nbformat": 4,
 "nbformat_minor": 5
}
