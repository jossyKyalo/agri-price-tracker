{
 "cells": [
  {
   "cell_type": "code",
   "execution_count": 1,
   "id": "46d564b8",
   "metadata": {},
   "outputs": [],
   "source": [
    "import pandas as pd\n",
    "from sklearn.model_selection import TimeSeriesSplit\n",
    "from sklearn.linear_model import LinearRegression\n",
    "from sklearn.metrics import mean_absolute_error, mean_squared_error\n",
    "import numpy as np"
   ]
  },
  {
   "cell_type": "code",
   "execution_count": 2,
   "id": "9504aa58",
   "metadata": {},
   "outputs": [],
   "source": [
    "df = pd.read_csv(\"../data/raw/kamis_data.csv\")"
   ]
  },
  {
   "cell_type": "code",
   "execution_count": 3,
   "id": "9b0c982c",
   "metadata": {},
   "outputs": [],
   "source": [
    "df[\"Date\"] = pd.to_datetime(df[\"Date\"])\n",
    "df = df.sort_values(\"Date\")"
   ]
  },
  {
   "cell_type": "code",
   "execution_count": 4,
   "id": "330dfd53",
   "metadata": {},
   "outputs": [],
   "source": [
    "def clean_price_column(col):\n",
    "    \"\"\"Clean price columns by removing '/Kg' and converting to numeric\"\"\"\n",
    "    if col.dtype == 'object':  \n",
    "        col = col.replace('-', np.nan)\n",
    "        col = col.str.replace('/Kg', '', regex=False)\n",
    "        col = pd.to_numeric(col, errors='coerce')\n",
    "    return col"
   ]
  },
  {
   "cell_type": "code",
   "execution_count": 5,
   "id": "106bf2e5",
   "metadata": {},
   "outputs": [],
   "source": [
    "price_columns = ['Wholesale', 'Retail']  \n",
    "for col in price_columns:\n",
    "    if col in df.columns:\n",
    "        df[col] = clean_price_column(df[col])"
   ]
  },
  {
   "cell_type": "code",
   "execution_count": 6,
   "id": "048178fe",
   "metadata": {},
   "outputs": [],
   "source": [
    "if 'Supply Volume' in df.columns:\n",
    "    df['Supply Volume'] = pd.to_numeric(df['Supply Volume'], errors='coerce')"
   ]
  },
  {
   "cell_type": "code",
   "execution_count": 7,
   "id": "021a7da7",
   "metadata": {},
   "outputs": [],
   "source": [
    "df = df.dropna(subset=[\"Retail\"])"
   ]
  },
  {
   "cell_type": "code",
   "execution_count": 8,
   "id": "68db4042",
   "metadata": {},
   "outputs": [],
   "source": [
    "categorical_cols = [\"Commodity\", \"Market\", \"County\"]  \n",
    "df = pd.get_dummies(df, columns=[col for col in categorical_cols if col in df.columns], drop_first=True)"
   ]
  },
  {
   "cell_type": "code",
   "execution_count": 9,
   "id": "054f19d4",
   "metadata": {},
   "outputs": [],
   "source": [
    "X = df.drop(columns=[\"Retail\", \"Date\"])   \n",
    "y = df[\"Retail\"] "
   ]
  },
  {
   "cell_type": "code",
   "execution_count": 10,
   "id": "6d202f73",
   "metadata": {},
   "outputs": [
    {
     "name": "stdout",
     "output_type": "stream",
     "text": [
      "Warning: Column 'Classification' is still object type. Converting to numeric.\n",
      "Warning: Column 'Grade' is still object type. Converting to numeric.\n",
      "Warning: Column 'Sex' is still object type. Converting to numeric.\n",
      "Warning: Column 'ProductName' is still object type. Converting to numeric.\n"
     ]
    }
   ],
   "source": [
    "for col in X.columns:\n",
    "    if X[col].dtype == 'object':\n",
    "        print(f\"Warning: Column '{col}' is still object type. Converting to numeric.\")\n",
    "        X[col] = pd.to_numeric(X[col], errors='coerce')"
   ]
  },
  {
   "cell_type": "code",
   "execution_count": 11,
   "id": "a9490525",
   "metadata": {},
   "outputs": [
    {
     "name": "stdout",
     "output_type": "stream",
     "text": [
      "Checking for problematic columns...\n",
      "Columns with all NaN values: ['Classification', 'Grade', 'Sex', 'ProductName']\n"
     ]
    }
   ],
   "source": [
    "print(\"Checking for problematic columns...\")\n",
    "nan_columns = X.columns[X.isna().all()].tolist()\n",
    "print(f\"Columns with all NaN values: {nan_columns}\")"
   ]
  },
  {
   "cell_type": "code",
   "execution_count": 12,
   "id": "c4ff1f03",
   "metadata": {},
   "outputs": [
    {
     "name": "stdout",
     "output_type": "stream",
     "text": [
      "Dropped columns: ['Classification', 'Grade', 'Sex', 'ProductName']\n"
     ]
    }
   ],
   "source": [
    "if nan_columns:\n",
    "    X = X.drop(columns=nan_columns)\n",
    "    print(f\"Dropped columns: {nan_columns}\")"
   ]
  },
  {
   "cell_type": "code",
   "execution_count": 13,
   "id": "12be54b4",
   "metadata": {},
   "outputs": [
    {
     "name": "stdout",
     "output_type": "stream",
     "text": [
      "Columns with >50% missing values: []\n"
     ]
    }
   ],
   "source": [
    "missing_percentage = (X.isna().sum() / len(X)) * 100\n",
    "high_missing_cols = missing_percentage[missing_percentage > 50].index.tolist()\n",
    "print(f\"Columns with >50% missing values: {high_missing_cols}\")"
   ]
  },
  {
   "cell_type": "code",
   "execution_count": 14,
   "id": "ab52d41e",
   "metadata": {},
   "outputs": [],
   "source": [
    "for col in X.columns:\n",
    "    if X[col].isna().any():\n",
    "        if np.issubdtype(X[col].dtype, np.number):\n",
    "            X[col] = X[col].fillna(X[col].median())\n",
    "        else:\n",
    "            X[col] = X[col].fillna(X[col].mode()[0] if len(X[col].mode()) > 0 else 0)"
   ]
  },
  {
   "cell_type": "code",
   "execution_count": 15,
   "id": "7f560ed3",
   "metadata": {},
   "outputs": [
    {
     "name": "stdout",
     "output_type": "stream",
     "text": [
      "Remaining NaN values in X: 0\n",
      "X shape after cleaning: (253742, 457)\n"
     ]
    }
   ],
   "source": [
    "print(f\"Remaining NaN values in X: {X.isna().sum().sum()}\")\n",
    "print(f\"X shape after cleaning: {X.shape}\")"
   ]
  },
  {
   "cell_type": "code",
   "execution_count": 16,
   "id": "28bb1681",
   "metadata": {},
   "outputs": [
    {
     "name": "stdout",
     "output_type": "stream",
     "text": [
      "NaN values in y: 0\n"
     ]
    }
   ],
   "source": [
    "print(f\"NaN values in y: {y.isna().sum()}\")"
   ]
  },
  {
   "cell_type": "code",
   "execution_count": 17,
   "id": "3b103ca2",
   "metadata": {},
   "outputs": [],
   "source": [
    "if y.isna().any():\n",
    "    nan_mask = y.isna()\n",
    "    X = X[~nan_mask]\n",
    "    y = y[~nan_mask]\n",
    "    print(f\"Removed {nan_mask.sum()} rows with NaN target values\")"
   ]
  },
  {
   "cell_type": "code",
   "execution_count": 18,
   "id": "8ab81859",
   "metadata": {},
   "outputs": [
    {
     "name": "stdout",
     "output_type": "stream",
     "text": [
      "Data preparation complete!\n",
      "X shape: (253742, 457)\n",
      "y shape: (253742,)\n",
      "X data types:\n",
      "Wholesale                        float64\n",
      "Supply Volume                    float64\n",
      "ProductID                          int64\n",
      "Commodity_Alestes                  uint8\n",
      "Commodity_Amaranthus (Terere)      uint8\n",
      "                                  ...   \n",
      "County_Turkana                     uint8\n",
      "County_Uasin-Gishu                 uint8\n",
      "County_Vihiga                      uint8\n",
      "County_Wajir                       uint8\n",
      "County_West-Pokot                  uint8\n",
      "Length: 457, dtype: object\n",
      "Sample of cleaned data:\n",
      "        Wholesale  Supply Volume  ProductID  Commodity_Alestes  \\\n",
      "249862       25.0         1500.0        220                  0   \n",
      "249861       80.0          500.0        220                  0   \n",
      "250190       19.5         3000.0        221                  0   \n",
      "249864       80.0          500.0        220                  0   \n",
      "250164       17.0          450.0        221                  0   \n",
      "\n",
      "        Commodity_Amaranthus (Terere)  Commodity_Anchovies  Commodity_Apples  \\\n",
      "249862                              0                    0                 0   \n",
      "249861                              0                    0                 0   \n",
      "250190                              0                    0                 0   \n",
      "249864                              0                    0                 0   \n",
      "250164                              0                    0                 0   \n",
      "\n",
      "        Commodity_Arrow Root  Commodity_Avocado  Commodity_Banana (Cooking)  \\\n",
      "249862                     0                  0                           0   \n",
      "249861                     0                  0                           0   \n",
      "250190                     0                  0                           0   \n",
      "249864                     0                  0                           0   \n",
      "250164                     0                  0                           0   \n",
      "\n",
      "        ...  County_Siaya  County_Taita-Taveta  County_Tana-River  \\\n",
      "249862  ...             0                    0                  0   \n",
      "249861  ...             0                    0                  0   \n",
      "250190  ...             0                    0                  0   \n",
      "249864  ...             0                    0                  0   \n",
      "250164  ...             0                    0                  0   \n",
      "\n",
      "        County_Tharaka-Nithi  County_Trans-Nzoia  County_Turkana  \\\n",
      "249862                     0                   0               0   \n",
      "249861                     0                   0               0   \n",
      "250190                     0                   0               0   \n",
      "249864                     0                   0               0   \n",
      "250164                     0                   0               0   \n",
      "\n",
      "        County_Uasin-Gishu  County_Vihiga  County_Wajir  County_West-Pokot  \n",
      "249862                   0              0             0                  0  \n",
      "249861                   0              0             0                  0  \n",
      "250190                   1              0             0                  0  \n",
      "249864                   0              0             0                  0  \n",
      "250164                   0              0             0                  0  \n",
      "\n",
      "[5 rows x 457 columns]\n"
     ]
    }
   ],
   "source": [
    "print(\"Data preparation complete!\")\n",
    "print(f\"X shape: {X.shape}\")\n",
    "print(f\"y shape: {y.shape}\")\n",
    "print(f\"X data types:\\n{X.dtypes}\")\n",
    "print(f\"Sample of cleaned data:\")\n",
    "print(X.head())"
   ]
  },
  {
   "cell_type": "code",
   "execution_count": null,
   "id": "ab9c382e",
   "metadata": {},
   "outputs": [
    {
     "name": "stdout",
     "output_type": "stream",
     "text": [
      "\n",
      "--- Fold 1 ---\n",
      "Training set size: 42292, Test set size: 42290\n",
      "Fold 1 - MAE: 119.48, RMSE: 341.75\n",
      "\n",
      "--- Fold 2 ---\n",
      "Training set size: 84582, Test set size: 42290\n",
      "Fold 2 - MAE: 88.18, RMSE: 228.79\n",
      "\n",
      "--- Fold 3 ---\n",
      "Training set size: 126872, Test set size: 42290\n",
      "Fold 3 - MAE: 77.50, RMSE: 229.22\n",
      "\n",
      "--- Fold 4 ---\n",
      "Training set size: 169162, Test set size: 42290\n",
      "Fold 4 - MAE: 49.20, RMSE: 280.40\n",
      "\n",
      "--- Fold 5 ---\n",
      "Training set size: 211452, Test set size: 42290\n"
     ]
    }
   ],
   "source": [
    "# Time Series Split\n",
    "tscv = TimeSeriesSplit(n_splits=5)\n",
    "mae_scores, rmse_scores = [], []\n",
    "\n",
    "for fold, (train_idx, test_idx) in enumerate(tscv.split(X)):\n",
    "    print(f\"\\n--- Fold {fold + 1} ---\")\n",
    "    \n",
    "    # Split data\n",
    "    X_train, X_test = X.iloc[train_idx], X.iloc[test_idx]\n",
    "    y_train, y_test = y.iloc[train_idx], y.iloc[test_idx]\n",
    "    \n",
    "    # Final check for NaN values\n",
    "    if X_train.isna().any().any() or X_test.isna().any().any():\n",
    "        print(\"Warning: NaN values detected in split data\")\n",
    "        train_nan_mask = X_train.isna().any(axis=1) | y_train.isna()\n",
    "        test_nan_mask = X_test.isna().any(axis=1) | y_test.isna()\n",
    "        \n",
    "        X_train = X_train[~train_nan_mask]\n",
    "        y_train = y_train[~train_nan_mask]\n",
    "        X_test = X_test[~test_nan_mask]\n",
    "        y_test = y_test[~test_nan_mask]\n",
    "    \n",
    "    print(f\"Training set size: {len(X_train)}, Test set size: {len(X_test)}\")\n",
    "    \n",
    "    # Train model\n",
    "    model = LinearRegression()\n",
    "    model.fit(X_train, y_train)\n",
    "    \n",
    "    # Predict and evaluate\n",
    "    y_pred = model.predict(X_test)\n",
    "    \n",
    "    mae = mean_absolute_error(y_test, y_pred)\n",
    "    rmse = np.sqrt(mean_squared_error(y_test, y_pred))\n",
    "    \n",
    "    mae_scores.append(mae)\n",
    "    rmse_scores.append(rmse)\n",
    "    \n",
    "    print(f\"Fold {fold + 1} - MAE: {mae:.2f}, RMSE: {rmse:.2f}\")\n"
   ]
  },
  {
   "cell_type": "code",
   "execution_count": null,
   "id": "8bd9dd60",
   "metadata": {},
   "outputs": [],
   "source": [
    "print(\"\\n=== Final Results ===\")\n",
    "print(f\"Average MAE: {np.mean(mae_scores):.2f}\")\n",
    "print(f\"Average RMSE: {np.mean(rmse_scores):.2f}\")\n",
    "print(f\"MAE Std: {np.std(mae_scores):.2f}\")\n",
    "print(f\"RMSE Std: {np.std(rmse_scores):.2f}\")"
   ]
  }
 ],
 "metadata": {
  "kernelspec": {
   "display_name": "Python 3",
   "language": "python",
   "name": "python3"
  },
  "language_info": {
   "codemirror_mode": {
    "name": "ipython",
    "version": 3
   },
   "file_extension": ".py",
   "mimetype": "text/x-python",
   "name": "python",
   "nbconvert_exporter": "python",
   "pygments_lexer": "ipython3",
   "version": "3.8.8"
  }
 },
 "nbformat": 4,
 "nbformat_minor": 5
}
