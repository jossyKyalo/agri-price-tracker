{
 "cells": [
  {
   "cell_type": "markdown",
   "id": "7ee85f56",
   "metadata": {},
   "source": [
    "## AGRICULTURAL PRICE PREDICTION - PRODUCTION MODEL\n",
    "============================================================\n",
    "\n",
    "This notebook trains a machine learning model to predict retail prices\n",
    "of agricultural commodities in Kenya using the Kamis dataset.\n",
    "\n",
    "#### Author: Kyalo Josephine Kathini\n",
    "\n",
    "##### Date: 2025"
   ]
  },
  {
   "cell_type": "code",
   "execution_count": 21,
   "id": "46d564b8",
   "metadata": {},
   "outputs": [
    {
     "name": "stdout",
     "output_type": "stream",
     "text": [
      "Libraries imported successfully\n"
     ]
    }
   ],
   "source": [
    "import pandas as pd\n",
    "import numpy as np\n",
    "from sklearn.model_selection import TimeSeriesSplit\n",
    "from sklearn.ensemble import RandomForestRegressor\n",
    "from sklearn.preprocessing import StandardScaler\n",
    "from sklearn.metrics import mean_absolute_error, mean_squared_error, r2_score\n",
    "import joblib\n",
    "import json\n",
    "from datetime import datetime\n",
    "import os\n",
    "import warnings\n",
    "warnings.filterwarnings('ignore')\n",
    "\n",
    "print(\"Libraries imported successfully\")"
   ]
  },
  {
   "cell_type": "markdown",
   "id": "bf8fed29",
   "metadata": {},
   "source": [
    " ### KAMIS AGRICULTURAL PRICE PREDICTION MODE"
   ]
  },
  {
   "cell_type": "markdown",
   "id": "de12b0b7",
   "metadata": {},
   "source": [
    " #### 1. Data loading and cleaning"
   ]
  },
  {
   "cell_type": "code",
   "execution_count": 22,
   "id": "330dfd53",
   "metadata": {},
   "outputs": [
    {
     "name": "stdout",
     "output_type": "stream",
     "text": [
      "Loaded 310,304 rows\n",
      "Columns: ['Commodity', 'Classification', 'Grade', 'Sex', 'Market', 'Wholesale', 'Retail', 'Supply Volume', 'County', 'Date', 'ProductID', 'ProductName']\n",
      "Date range: 2008-04-01 to 2025-09-17\n"
     ]
    }
   ],
   "source": [
    "data_path = \"../data/raw/kamis_data.csv\"\n",
    "df = pd.read_csv(data_path)\n",
    "\n",
    "print(f\"Loaded {len(df):,} rows\")\n",
    "print(f\"Columns: {df.columns.tolist()}\")\n",
    "print(f\"Date range: {df['Date'].min()} to {df['Date'].max()}\")"
   ]
  },
  {
   "cell_type": "code",
   "execution_count": 23,
   "id": "106bf2e5",
   "metadata": {},
   "outputs": [
    {
     "name": "stdout",
     "output_type": "stream",
     "text": [
      "After date conversion: 310,304 rows\n"
     ]
    }
   ],
   "source": [
    "df[\"Date\"] = pd.to_datetime(df[\"Date\"], errors='coerce')\n",
    "df = df.dropna(subset=[\"Date\"])\n",
    "df = df.sort_values(\"Date\").reset_index(drop=True)\n",
    "\n",
    "print(f\"After date conversion: {len(df):,} rows\")"
   ]
  },
  {
   "cell_type": "code",
   "execution_count": 24,
   "id": "ae07e902",
   "metadata": {},
   "outputs": [
    {
     "name": "stdout",
     "output_type": "stream",
     "text": [
      "Prices cleaned\n"
     ]
    }
   ],
   "source": [
    "def clean_price(col):\n",
    "    \"\"\"Remove /Kg suffix and convert to numeric\"\"\"\n",
    "    if col.dtype == 'object':\n",
    "        col = col.astype(str)\n",
    "        col = col.str.replace('/Kg', '', regex=False)\n",
    "        col = col.str.replace('/kg', '', regex=False)\n",
    "        col = col.str.replace('-', '')\n",
    "        col = pd.to_numeric(col, errors='coerce')\n",
    "    return col\n",
    " \n",
    "df['Retail'] = clean_price(df['Retail'])\n",
    "df['Wholesale'] = clean_price(df['Wholesale'])\n",
    "df['Supply Volume'] = pd.to_numeric(df['Supply Volume'], errors='coerce').fillna(0)\n",
    "\n",
    "print(\"Prices cleaned\")"
   ]
  },
  {
   "cell_type": "code",
   "execution_count": 25,
   "id": "62100c10",
   "metadata": {},
   "outputs": [
    {
     "name": "stdout",
     "output_type": "stream",
     "text": [
      "After removing missing/outliers: 256,087 rows (removed 54,217)\n",
      "Price range: 1.01 to 4929.58 KES\n",
      "Price mean: 164.07 KES\n"
     ]
    }
   ],
   "source": [
    "# Remove missing target values and outliers\n",
    "initial_rows = len(df)\n",
    "df = df.dropna(subset=['Retail'])\n",
    "df = df[(df['Retail'] > 1) & (df['Retail'] < 5000)]\n",
    "\n",
    "print(f\"After removing missing/outliers: {len(df):,} rows (removed {initial_rows - len(df):,})\")\n",
    "print(f\"Price range: {df['Retail'].min():.2f} to {df['Retail'].max():.2f} KES\")\n",
    "print(f\"Price mean: {df['Retail'].mean():.2f} KES\")"
   ]
  },
  {
   "cell_type": "markdown",
   "id": "73dffaa0",
   "metadata": {},
   "source": [
    " #### 2. Feature Engineering"
   ]
  },
  {
   "cell_type": "code",
   "execution_count": 27,
   "id": "ecf6f874",
   "metadata": {
    "scrolled": true
   },
   "outputs": [
    {
     "name": "stdout",
     "output_type": "stream",
     "text": [
      "Data sorted for feature engineering\n"
     ]
    }
   ],
   "source": [
    "# Sort by commodity, market, county, date for proper grouping\n",
    "df = df.sort_values(['Commodity', 'Market', 'County', 'Date']).reset_index(drop=True)\n",
    "\n",
    "print(\"Data sorted for feature engineering\") "
   ]
  },
  {
   "cell_type": "markdown",
   "id": "1ee74686",
   "metadata": {},
   "source": [
    "#### 2.1 TEMPORAL FEATURES"
   ]
  },
  {
   "cell_type": "code",
   "execution_count": 28,
   "id": "66b5506e",
   "metadata": {},
   "outputs": [],
   "source": [
    "df['year'] = df['Date'].dt.year\n",
    "df['month'] = df['Date'].dt.month\n",
    "df['quarter'] = df['Date'].dt.quarter\n",
    "df['week'] = df['Date'].dt.isocalendar().week\n",
    "df['dayofweek'] = df['Date'].dt.dayofweek "
   ]
  },
  {
   "cell_type": "code",
   "execution_count": 29,
   "id": "8ca6c43e",
   "metadata": {},
   "outputs": [],
   "source": [
    "# Cyclical encoding for seasonality\n",
    "df['month_sin'] = np.sin(2 * np.pi * df['month'] / 12)\n",
    "df['month_cos'] = np.cos(2 * np.pi * df['month'] / 12)"
   ]
  },
  {
   "cell_type": "code",
   "execution_count": 30,
   "id": "84cb0e5f",
   "metadata": {},
   "outputs": [
    {
     "name": "stdout",
     "output_type": "stream",
     "text": [
      "Temporal features created: 10 features\n"
     ]
    }
   ],
   "source": [
    "# Seasonal flags (Kenya-specific)\n",
    "df['is_harvest'] = df['month'].isin([7, 8, 1, 2]).astype(int)\n",
    "df['is_rainy'] = df['month'].isin([3, 4, 5, 10, 11]).astype(int)\n",
    "\n",
    "print(\"Temporal features created: 10 features\")"
   ]
  },
  {
   "cell_type": "markdown",
   "id": "790881ad",
   "metadata": {},
   "source": [
    "#### 2.2 LAG FEATURES"
   ]
  },
  {
   "cell_type": "code",
   "execution_count": 31,
   "id": "da868b41",
   "metadata": {},
   "outputs": [
    {
     "name": "stdout",
     "output_type": "stream",
     "text": [
      "Lag features created: 4 features\n"
     ]
    }
   ],
   "source": [
    "for lag in [1, 3, 7, 14]:\n",
    "    df[f'lag_{lag}'] = df.groupby(['Commodity', 'Market', 'County'])['Retail'].shift(lag)\n",
    "\n",
    "print(\"Lag features created: 4 features\")"
   ]
  },
  {
   "cell_type": "code",
   "execution_count": 32,
   "id": "e9565aea",
   "metadata": {},
   "outputs": [
    {
     "name": "stdout",
     "output_type": "stream",
     "text": [
      "Rolling features created: 4 features\n"
     ]
    }
   ],
   "source": [
    "for window in [7, 14]: \n",
    "    df[f'ma_{window}'] = df.groupby(['Commodity', 'Market', 'County'])['Retail'].apply(\n",
    "        lambda x: x.rolling(window=window, min_periods=1).mean()\n",
    "    ).reset_index(level=0, drop=True)\n",
    "    \n",
    "    df[f'std_{window}'] = df.groupby(['Commodity', 'Market', 'County'])['Retail'].apply(\n",
    "        lambda x: x.rolling(window=window, min_periods=1).std()\n",
    "    ).reset_index(level=0, drop=True)\n",
    "\n",
    "print(\"Rolling features created: 4 features\")"
   ]
  },
  {
   "cell_type": "code",
   "execution_count": 33,
   "id": "95848006",
   "metadata": {},
   "outputs": [
    {
     "name": "stdout",
     "output_type": "stream",
     "text": [
      "Total features after engineering: 29\n"
     ]
    }
   ],
   "source": [
    "df = df.fillna(method='bfill').fillna(0)\n",
    "\n",
    "print(f\"Total features after engineering: {df.shape[1]}\")\n"
   ]
  },
  {
   "cell_type": "markdown",
   "id": "8e9e2f33",
   "metadata": {},
   "source": [
    "#### 2.3  FEATURE MATRIX"
   ]
  },
  {
   "cell_type": "code",
   "execution_count": 34,
   "id": "3d1643ac",
   "metadata": {},
   "outputs": [
    {
     "name": "stdout",
     "output_type": "stream",
     "text": [
      "Base features: 9\n",
      "Lag features: 4\n",
      "Rolling features: 4\n"
     ]
    }
   ],
   "source": [
    "base_features = [\n",
    "    'year', 'month', 'quarter', 'week', 'dayofweek',\n",
    "    'month_sin', 'month_cos', 'is_harvest', 'is_rainy'\n",
    "]\n",
    "\n",
    "lag_features = [f'lag_{i}' for i in [1, 3, 7, 14]]\n",
    "\n",
    "rolling_features = [f'ma_{w}' for w in [7, 14]] + [f'std_{w}' for w in [7, 14]]\n",
    "\n",
    "feature_list = base_features + lag_features + rolling_features\n",
    "\n",
    "print(f\"Base features: {len(base_features)}\")\n",
    "print(f\"Lag features: {len(lag_features)}\")\n",
    "print(f\"Rolling features: {len(rolling_features)}\")"
   ]
  },
  {
   "cell_type": "code",
   "execution_count": 35,
   "id": "a2a5af3f",
   "metadata": {},
   "outputs": [
    {
     "name": "stdout",
     "output_type": "stream",
     "text": [
      "\n",
      "Top Commodity values: ['Wheat Flour', 'Maize Flour', 'Nile Perch', 'Indigenous Crotolaria (Mito/Miro)', 'Jute Plant (Murenda)']\n",
      "\n",
      "Top County values: ['Nairobi', 'Kirinyaga', 'Trans-Nzoia', 'Nakuru', 'Siaya']\n",
      "\n",
      "Top Market values: ['Kitale Municipality Market', 'Kawangware', 'Molo', 'Gikomba', 'Ngurubani Market']\n",
      "\n",
      "Total features: 32\n"
     ]
    }
   ],
   "source": [
    "for col in ['Commodity', 'County', 'Market']:\n",
    "    top_values = df[col].value_counts().head(5).index\n",
    "    print(f\"\\nTop {col} values: {top_values.tolist()}\")\n",
    "    \n",
    "    for val in top_values:\n",
    "        feature_name = f\"{col}_{str(val).replace(' ', '_')}\"\n",
    "        df[feature_name] = (df[col] == val).astype(int)\n",
    "        feature_list.append(feature_name)\n",
    "\n",
    "print(f\"\\nTotal features: {len(feature_list)}\")"
   ]
  },
  {
   "cell_type": "code",
   "execution_count": 36,
   "id": "c01e05a9",
   "metadata": {},
   "outputs": [
    {
     "name": "stdout",
     "output_type": "stream",
     "text": [
      "Training data shape: (256087, 32)\n",
      "Target shape: (256087,)\n",
      "NaN values in X: 0\n",
      "NaN values in y: 0\n"
     ]
    }
   ],
   "source": [
    "X = df[feature_list].copy()\n",
    "y = df['Retail'].copy()\n",
    "\n",
    "print(f\"Training data shape: {X.shape}\")\n",
    "print(f\"Target shape: {y.shape}\")\n",
    "print(f\"NaN values in X: {X.isna().sum().sum()}\")\n",
    "print(f\"NaN values in y: {y.isna().sum()}\")"
   ]
  },
  {
   "cell_type": "markdown",
   "id": "95033585",
   "metadata": {},
   "source": [
    "#### MODEL TRAINING"
   ]
  },
  {
   "cell_type": "code",
   "execution_count": 37,
   "id": "34f2c06c",
   "metadata": {},
   "outputs": [
    {
     "name": "stdout",
     "output_type": "stream",
     "text": [
      "Starting model training...\n",
      "\n"
     ]
    }
   ],
   "source": [
    "print(\"Starting model training...\\n\")\n",
    "\n",
    "scaler = StandardScaler()\n",
    "tscv = TimeSeriesSplit(n_splits=5)\n",
    "\n",
    "model = RandomForestRegressor(\n",
    "    n_estimators=50,\n",
    "    max_depth=12,\n",
    "    min_samples_split=50,\n",
    "    random_state=42,\n",
    "    n_jobs=-1,\n",
    "    verbose=0\n",
    ")"
   ]
  },
  {
   "cell_type": "code",
   "execution_count": 38,
   "id": "028d9f20",
   "metadata": {},
   "outputs": [
    {
     "name": "stdout",
     "output_type": "stream",
     "text": [
      "Fold 1/5 ... MAE=21.78 KES, R²=0.6590\n",
      "Fold 2/5 ... MAE=39.21 KES, R²=0.5710\n",
      "Fold 3/5 ... MAE=34.92 KES, R²=0.7799\n",
      "Fold 4/5 ... MAE=25.99 KES, R²=0.6734\n",
      "Fold 5/5 ... MAE=26.14 KES, R²=0.6401\n"
     ]
    }
   ],
   "source": [
    "fold_results = []\n",
    "\n",
    "for fold, (train_idx, test_idx) in enumerate(tscv.split(X)):\n",
    "    print(f\"Fold {fold+1}/5\", end=\" ... \")\n",
    "    \n",
    "    X_train, X_test = X.iloc[train_idx], X.iloc[test_idx]\n",
    "    y_train, y_test = y.iloc[train_idx], y.iloc[test_idx]\n",
    "    \n",
    "    # Scale\n",
    "    X_train_scaled = scaler.fit_transform(X_train)\n",
    "    X_test_scaled = scaler.transform(X_test)\n",
    "    \n",
    "    # Train\n",
    "    model.fit(X_train_scaled, y_train)\n",
    "    \n",
    "    # Predict\n",
    "    y_pred = model.predict(X_test_scaled)\n",
    "    \n",
    "    # Evaluate\n",
    "    mae = mean_absolute_error(y_test, y_pred)\n",
    "    rmse = np.sqrt(mean_squared_error(y_test, y_pred))\n",
    "    r2 = r2_score(y_test, y_pred)\n",
    "    \n",
    "    fold_results.append({'fold': fold+1, 'mae': mae, 'rmse': rmse, 'r2': r2})\n",
    "    \n",
    "    print(f\"MAE={mae:.2f} KES, R²={r2:.4f}\")"
   ]
  },
  {
   "cell_type": "code",
   "execution_count": 39,
   "id": "a2cc1d89",
   "metadata": {},
   "outputs": [],
   "source": [
    "avg_mae = np.mean([f['mae'] for f in fold_results])\n",
    "avg_rmse = np.mean([f['rmse'] for f in fold_results])\n",
    "avg_r2 = np.mean([f['r2'] for f in fold_results])\n",
    "std_r2 = np.std([f['r2'] for f in fold_results])"
   ]
  },
  {
   "cell_type": "code",
   "execution_count": 40,
   "id": "434a9601",
   "metadata": {},
   "outputs": [
    {
     "name": "stdout",
     "output_type": "stream",
     "text": [
      "\n",
      "============================================================\n",
      "CROSS-VALIDATION RESULTS\n",
      "============================================================\n",
      "Average MAE:  29.61 KES\n",
      "Average RMSE: 111.59 KES\n",
      "Average R²:   0.6647 (+/- 0.0675)\n"
     ]
    }
   ],
   "source": [
    "print(f\"\\n{'='*60}\")\n",
    "print(f\"CROSS-VALIDATION RESULTS\")\n",
    "print(f\"{'='*60}\")\n",
    "print(f\"Average MAE:  {avg_mae:.2f} KES\")\n",
    "print(f\"Average RMSE: {avg_rmse:.2f} KES\")\n",
    "print(f\"Average R²:   {avg_r2:.4f} (+/- {std_r2:.4f})\")"
   ]
  },
  {
   "cell_type": "markdown",
   "id": "af98e18d",
   "metadata": {},
   "source": [
    "### FINAL MODEL"
   ]
  },
  {
   "cell_type": "code",
   "execution_count": 41,
   "id": "60231ffd",
   "metadata": {},
   "outputs": [
    {
     "name": "stdout",
     "output_type": "stream",
     "text": [
      "\n",
      "Training final model on all data...\n",
      "Final model trained successfully\n"
     ]
    }
   ],
   "source": [
    "print(\"\\nTraining final model on all data...\")\n",
    "\n",
    "X_scaled = scaler.fit_transform(X)\n",
    "model.fit(X_scaled, y)\n",
    "\n",
    "print(\"Final model trained successfully\")"
   ]
  },
  {
   "cell_type": "code",
   "execution_count": 42,
   "id": "b9d642a6",
   "metadata": {},
   "outputs": [],
   "source": [
    "os.makedirs(\"../models\", exist_ok=True)"
   ]
  },
  {
   "cell_type": "code",
   "execution_count": 43,
   "id": "30eee3e0",
   "metadata": {},
   "outputs": [
    {
     "name": "stdout",
     "output_type": "stream",
     "text": [
      "Model saved: ../models/kamis_model.pkl\n"
     ]
    }
   ],
   "source": [
    "model_path = \"../models/kamis_model.pkl\"\n",
    "joblib.dump(model, model_path)\n",
    "print(f\"Model saved: {model_path}\")"
   ]
  },
  {
   "cell_type": "code",
   "execution_count": 44,
   "id": "2464fd38",
   "metadata": {},
   "outputs": [
    {
     "name": "stdout",
     "output_type": "stream",
     "text": [
      "Scaler saved: ../models/kamis_scaler.pkl\n"
     ]
    }
   ],
   "source": [
    "scaler_path = \"../models/kamis_scaler.pkl\"\n",
    "joblib.dump(scaler, scaler_path)\n",
    "print(f\"Scaler saved: {scaler_path}\") "
   ]
  },
  {
   "cell_type": "code",
   "execution_count": 45,
   "id": "6f3ab2a7",
   "metadata": {},
   "outputs": [
    {
     "name": "stdout",
     "output_type": "stream",
     "text": [
      " Metadata saved: ../models/kamis_metadata.json\n"
     ]
    }
   ],
   "source": [
    "metadata = {\n",
    "    'features': feature_list,\n",
    "    'model_type': 'RandomForest',\n",
    "    'n_features': len(feature_list),\n",
    "    'training_samples': len(X),\n",
    "    'avg_mae': float(avg_mae),\n",
    "    'avg_rmse': float(avg_rmse),\n",
    "    'avg_r2': float(avg_r2),\n",
    "    'trained_date': datetime.now().isoformat(),\n",
    "    'sklearn_version': '1.3.2 or higher'\n",
    "}\n",
    "\n",
    "metadata_path = \"../models/kamis_metadata.json\"\n",
    "with open(metadata_path, 'w') as f:\n",
    "    json.dump(metadata, f, indent=2)\n",
    "\n",
    "print(f\" Metadata saved: {metadata_path}\")"
   ]
  },
  {
   "cell_type": "code",
   "execution_count": 46,
   "id": "f8a68cb4",
   "metadata": {},
   "outputs": [
    {
     "name": "stdout",
     "output_type": "stream",
     "text": [
      "Recent prices saved: ../data/processed/recent_prices.csv\n",
      "  Records: 1000\n"
     ]
    }
   ],
   "source": [
    "os.makedirs(\"../data/processed\", exist_ok=True)\n",
    "\n",
    "recent_data = df[[\n",
    "    'Date', 'Commodity', 'Market', 'County', 'Retail', 'Wholesale', 'Supply Volume'\n",
    "]].tail(1000).copy()\n",
    "\n",
    "recent_path = \"../data/processed/recent_prices.csv\"\n",
    "recent_data.to_csv(recent_path, index=False)\n",
    "print(f\"Recent prices saved: {recent_path}\")\n",
    "print(f\"  Records: {len(recent_data)}\")"
   ]
  },
  {
   "cell_type": "code",
   "execution_count": 47,
   "id": "a4c6a30e",
   "metadata": {},
   "outputs": [
    {
     "name": "stdout",
     "output_type": "stream",
     "text": [
      "TRAINING COMPLETE!\n",
      "============================================================\n",
      "\n",
      "Model Performance:\n",
      "  MAE:  29.61 KES\n",
      "  RMSE: 111.59 KES\n",
      "  R²:   0.6647\n"
     ]
    }
   ],
   "source": [
    "print(f\"TRAINING COMPLETE!\")\n",
    "print(f\"{'='*60}\")\n",
    "print(f\"\\nModel Performance:\")\n",
    "print(f\"  MAE:  {avg_mae:.2f} KES\")\n",
    "print(f\"  RMSE: {avg_rmse:.2f} KES\")\n",
    "print(f\"  R²:   {avg_r2:.4f}\")"
   ]
  },
  {
   "cell_type": "code",
   "execution_count": null,
   "id": "92fbb6cc",
   "metadata": {},
   "outputs": [],
   "source": []
  }
 ],
 "metadata": {
  "kernelspec": {
   "display_name": "Python 3",
   "language": "python",
   "name": "python3"
  },
  "language_info": {
   "codemirror_mode": {
    "name": "ipython",
    "version": 3
   },
   "file_extension": ".py",
   "mimetype": "text/x-python",
   "name": "python",
   "nbconvert_exporter": "python",
   "pygments_lexer": "ipython3",
   "version": "3.8.8"
  }
 },
 "nbformat": 4,
 "nbformat_minor": 5
}
