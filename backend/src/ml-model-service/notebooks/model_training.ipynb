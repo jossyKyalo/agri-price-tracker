{
 "cells": [
  {
   "cell_type": "markdown",
   "id": "7ee85f56",
   "metadata": {},
   "source": [
    "## AGRICULTURAL PRICE PREDICTION - PRODUCTION MODEL\n",
    "============================================================\n",
    "\n",
    "This notebook trains a machine learning model to predict retail prices\n",
    "of agricultural commodities in Kenya using the Kamis dataset.\n",
    "\n",
    "#### Author: Kyalo Josephine Kathini\n",
    "\n",
    "##### Date: 2025"
   ]
  },
  {
   "cell_type": "code",
   "execution_count": 13,
   "id": "46d564b8",
   "metadata": {},
   "outputs": [],
   "source": [
    "import pandas as pd\n",
    "import numpy as np\n",
    "from sklearn.model_selection import TimeSeriesSplit\n",
    "from sklearn.ensemble import RandomForestRegressor, GradientBoostingRegressor\n",
    "from sklearn.preprocessing import StandardScaler\n",
    "from sklearn.metrics import mean_absolute_error, mean_squared_error, r2_score, mean_absolute_percentage_error\n",
    "import matplotlib.pyplot as plt\n",
    "import seaborn as sns\n",
    "import warnings\n",
    "warnings.filterwarnings('ignore')"
   ]
  },
  {
   "cell_type": "markdown",
   "id": "bf8fed29",
   "metadata": {},
   "source": [
    " ### KAMIS AGRICULTURAL PRICE PREDICTION MODE"
   ]
  },
  {
   "cell_type": "markdown",
   "id": "de12b0b7",
   "metadata": {},
   "source": [
    " #### 1. Data loading and cleaning"
   ]
  },
  {
   "cell_type": "code",
   "execution_count": 14,
   "id": "330dfd53",
   "metadata": {},
   "outputs": [],
   "source": [
    " def clean_price_column(col):\n",
    "    \"\"\"\n",
    "    Robust price cleaning for various formats:\n",
    "    - Removes '/Kg', '/kg', 'KES', 'Ksh'\n",
    "    - Handles missing values ('-', 'NA', etc.)\n",
    "    - Converts to numeric\n",
    "    \"\"\"\n",
    "    if col.dtype == 'object':\n",
    "        col = col.astype(str)\n",
    "        col = col.replace(['-', '', 'NA', 'N/A', 'nan', 'NaN', 'None'], np.nan)\n",
    "        col = col.str.replace('/kg', '', case=False, regex=False)\n",
    "        col = col.str.replace('/Kg', '', case=False, regex=False)\n",
    "        col = col.str.replace('ksh', '', case=False, regex=False)\n",
    "        col = col.str.replace('kes', '', case=False, regex=False)\n",
    "        col = col.str.replace(' ', '', regex=False)\n",
    "        col = col.str.replace(',', '', regex=False)\n",
    "        col = pd.to_numeric(col, errors='coerce')\n",
    "    return col"
   ]
  },
  {
   "cell_type": "code",
   "execution_count": 15,
   "id": "106bf2e5",
   "metadata": {},
   "outputs": [
    {
     "name": "stdout",
     "output_type": "stream",
     "text": [
      "\n",
      "Loading data...\n",
      "Loaded 310,304 rows and 12 columns\n"
     ]
    }
   ],
   "source": [
    "# Load data\n",
    "print(\"\\nLoading data...\")\n",
    "df = pd.read_csv(\"../data/raw/kamis_data.csv\")\n",
    "print(f\"Loaded {len(df):,} rows and {len(df.columns)} columns\")"
   ]
  },
  {
   "cell_type": "code",
   "execution_count": 16,
   "id": "ae07e902",
   "metadata": {},
   "outputs": [
    {
     "name": "stdout",
     "output_type": "stream",
     "text": [
      "Date range: 2008-04-01 00:00:00 to 2025-09-17 00:00:00\n"
     ]
    }
   ],
   "source": [
    "# Convert date  \n",
    "df[\"Date\"] = pd.to_datetime(df[\"Date\"], errors='coerce')\n",
    "df = df.dropna(subset=[\"Date\"])\n",
    "df = df.sort_values(\"Date\").reset_index(drop=True)\n",
    "print(f\"Date range: {df['Date'].min()} to {df['Date'].max()}\") "
   ]
  },
  {
   "cell_type": "code",
   "execution_count": 17,
   "id": "62100c10",
   "metadata": {},
   "outputs": [
    {
     "name": "stdout",
     "output_type": "stream",
     "text": [
      "✓ Cleaned price columns\n"
     ]
    }
   ],
   "source": [
    "# Clean price columns\n",
    "df['Retail'] = clean_price_column(df['Retail'])\n",
    "df['Wholesale'] = clean_price_column(df['Wholesale'])\n",
    "df['Supply Volume'] = pd.to_numeric(df['Supply Volume'], errors='coerce')\n",
    "print(f\"✓ Cleaned price columns\")"
   ]
  },
  {
   "cell_type": "code",
   "execution_count": 18,
   "id": "fe391547",
   "metadata": {},
   "outputs": [
    {
     "name": "stdout",
     "output_type": "stream",
     "text": [
      "Removed 53,690 rows without retail price\n"
     ]
    }
   ],
   "source": [
    "initial_count = len(df)\n",
    "df = df.dropna(subset=['Retail'])\n",
    "print(f\"Removed {initial_count - len(df):,} rows without retail price\")"
   ]
  },
  {
   "cell_type": "code",
   "execution_count": 19,
   "id": "82e338a6",
   "metadata": {},
   "outputs": [
    {
     "name": "stdout",
     "output_type": "stream",
     "text": [
      "\n",
      "Price statistics before outlier removal:\n",
      "  Min: 0.01, Max: 100000.00\n",
      "  Mean: 170.71, Median: 100.00\n",
      "\n",
      "Price statistics after outlier removal (1-5000 KES):\n",
      "  Min: 1.00, Max: 5000.00\n",
      "  Mean: 164.35, Median: 100.00\n",
      "Final dataset: 256,167 rows\n"
     ]
    }
   ],
   "source": [
    "# Remove unrealistic outliers EARLY\n",
    "print(f\"\\nPrice statistics before outlier removal:\")\n",
    "print(f\"  Min: {df['Retail'].min():.2f}, Max: {df['Retail'].max():.2f}\")\n",
    "print(f\"  Mean: {df['Retail'].mean():.2f}, Median: {df['Retail'].median():.2f}\")\n",
    "\n",
    "df = df[(df['Retail'] >= 1) & (df['Retail'] <= 5000)]\n",
    "print(f\"\\nPrice statistics after outlier removal (1-5000 KES):\")\n",
    "print(f\"  Min: {df['Retail'].min():.2f}, Max: {df['Retail'].max():.2f}\")\n",
    "print(f\"  Mean: {df['Retail'].mean():.2f}, Median: {df['Retail'].median():.2f}\")\n",
    "print(f\"Final dataset: {len(df):,} rows\")"
   ]
  },
  {
   "cell_type": "markdown",
   "id": "73dffaa0",
   "metadata": {},
   "source": [
    " #### 2. Feature Engineering"
   ]
  },
  {
   "cell_type": "code",
   "execution_count": 20,
   "id": "ecf6f874",
   "metadata": {},
   "outputs": [
    {
     "name": "stdout",
     "output_type": "stream",
     "text": [
      "Sorted data by Commodity → Market → County → Date\n"
     ]
    }
   ],
   "source": [
    "# Sorting data properly for time series\n",
    "df = df.sort_values(['Commodity', 'Market', 'County', 'Date']).reset_index(drop=True)\n",
    "print(\"Sorted data by Commodity → Market → County → Date\")"
   ]
  },
  {
   "cell_type": "markdown",
   "id": "1ee74686",
   "metadata": {},
   "source": [
    "#### 2.1 TEMPORAL FEATURES"
   ]
  },
  {
   "cell_type": "code",
   "execution_count": 21,
   "id": "66b5506e",
   "metadata": {},
   "outputs": [
    {
     "name": "stdout",
     "output_type": "stream",
     "text": [
      "\n",
      "[2.1] Creating temporal features...\n"
     ]
    }
   ],
   "source": [
    "print(\"\\n[2.1] Creating temporal features...\")\n",
    "df['year'] = df['Date'].dt.year\n",
    "df['month'] = df['Date'].dt.month\n",
    "df['week_of_year'] = df['Date'].dt.isocalendar().week\n",
    "df['day_of_year'] = df['Date'].dt.dayofyear\n",
    "df['quarter'] = df['Date'].dt.quarter\n",
    "df['day_of_week'] = df['Date'].dt.dayofweek\n",
    "df['day_of_month'] = df['Date'].dt.day"
   ]
  },
  {
   "cell_type": "code",
   "execution_count": 22,
   "id": "8ca6c43e",
   "metadata": {},
   "outputs": [],
   "source": [
    "# Cyclical encoding  \n",
    "df['month_sin'] = np.sin(2 * np.pi * df['month'] / 12)\n",
    "df['month_cos'] = np.cos(2 * np.pi * df['month'] / 12)\n",
    "df['week_sin'] = np.sin(2 * np.pi * df['week_of_year'] / 52)\n",
    "df['week_cos'] = np.cos(2 * np.pi * df['week_of_year'] / 52)"
   ]
  },
  {
   "cell_type": "code",
   "execution_count": 23,
   "id": "84cb0e5f",
   "metadata": {},
   "outputs": [
    {
     "name": "stdout",
     "output_type": "stream",
     "text": [
      "  Created 18 temporal features\n"
     ]
    }
   ],
   "source": [
    "# Kenya-specific agricultural seasons\n",
    "df['is_long_rains'] = df['month'].isin([3, 4, 5]).astype(int)\n",
    "df['is_short_rains'] = df['month'].isin([10, 11, 12]).astype(int)\n",
    "df['is_planting_season'] = df['month'].isin([3, 4, 10]).astype(int)\n",
    "df['is_harvest_season'] = df['month'].isin([7, 8, 1, 2]).astype(int)\n",
    "\n",
    "print(f\"  Created 18 temporal features\")"
   ]
  },
  {
   "cell_type": "markdown",
   "id": "790881ad",
   "metadata": {},
   "source": [
    "#### 2.2 LAG FEATURES"
   ]
  },
  {
   "cell_type": "code",
   "execution_count": 24,
   "id": "da868b41",
   "metadata": {},
   "outputs": [
    {
     "name": "stdout",
     "output_type": "stream",
     "text": [
      "\n",
      "[2.2] Creating lag features...\n"
     ]
    }
   ],
   "source": [
    "print(\"\\n[2.2] Creating lag features...\")\n",
    "group_cols = ['Commodity', 'Market', 'County']"
   ]
  },
  {
   "cell_type": "code",
   "execution_count": 25,
   "id": "e9565aea",
   "metadata": {},
   "outputs": [
    {
     "name": "stdout",
     "output_type": "stream",
     "text": [
      "  ✓ Created 6 retail lag features\n"
     ]
    }
   ],
   "source": [
    "# Retail price lags\n",
    "lags = [1, 2, 3, 7, 14, 30]\n",
    "for lag in lags:\n",
    "    df[f'retail_lag_{lag}'] = df.groupby(group_cols)['Retail'].shift(lag)\n",
    "print(f\"  ✓ Created {len(lags)} retail lag features\")"
   ]
  },
  {
   "cell_type": "code",
   "execution_count": 26,
   "id": "95848006",
   "metadata": {},
   "outputs": [
    {
     "name": "stdout",
     "output_type": "stream",
     "text": [
      "  Created 3 wholesale lag features\n"
     ]
    }
   ],
   "source": [
    "# Wholesale price lags  \n",
    "if 'Wholesale' in df.columns:\n",
    "    for lag in [1, 2, 7]:\n",
    "        df[f'wholesale_lag_{lag}'] = df.groupby(group_cols)['Wholesale'].shift(lag)\n",
    "    print(f\"  Created 3 wholesale lag features\")"
   ]
  },
  {
   "cell_type": "code",
   "execution_count": 27,
   "id": "0dc99790",
   "metadata": {},
   "outputs": [
    {
     "name": "stdout",
     "output_type": "stream",
     "text": [
      "  ✓ Created 3 supply lag features\n"
     ]
    }
   ],
   "source": [
    "# Supply volume lags\n",
    "if 'Supply Volume' in df.columns:\n",
    "    df['Supply Volume'] = df['Supply Volume'].fillna(0)\n",
    "    for lag in [1, 7, 14]:\n",
    "        df[f'supply_lag_{lag}'] = df.groupby(group_cols)['Supply Volume'].shift(lag)\n",
    "    print(f\"  ✓ Created 3 supply lag features\")"
   ]
  },
  {
   "cell_type": "markdown",
   "id": "8e9e2f33",
   "metadata": {},
   "source": [
    "#### 2.3 ROLLING WINDOW FEATURES (Trends and Volatility)"
   ]
  },
  {
   "cell_type": "code",
   "execution_count": 28,
   "id": "3d1643ac",
   "metadata": {},
   "outputs": [
    {
     "name": "stdout",
     "output_type": "stream",
     "text": [
      "\n",
      "[2.3] Creating rolling window features...\n"
     ]
    }
   ],
   "source": [
    "print(\"\\n[2.3] Creating rolling window features...\")\n",
    "windows = [7, 14, 30]"
   ]
  },
  {
   "cell_type": "code",
   "execution_count": 31,
   "id": "a2a5af3f",
   "metadata": {},
   "outputs": [
    {
     "name": "stdout",
     "output_type": "stream",
     "text": [
      "  Creating features for 7-day window...\n",
      "  Creating features for 14-day window...\n",
      "  Creating features for 30-day window...\n",
      "  Created 12 rolling window features\n"
     ]
    }
   ],
   "source": [
    "original_index = df.index\n",
    "df_reset = df.reset_index(drop=True)\n",
    "\n",
    "for window in windows:\n",
    "    print(f\"  Creating features for {window}-day window...\")\n",
    "    def calculate_rolling_stats(group, window):\n",
    "        group = group.sort_values('Date')\n",
    "        group[f'retail_ma_{window}'] = group['Retail'].shift(1).rolling(window=window, min_periods=1).mean()\n",
    "        group[f'retail_std_{window}'] = group['Retail'].shift(1).rolling(window=window, min_periods=1).std()\n",
    "        group[f'retail_min_{window}'] = group['Retail'].shift(1).rolling(window=window, min_periods=1).min()\n",
    "        group[f'retail_max_{window}'] = group['Retail'].shift(1).rolling(window=window, min_periods=1).max()\n",
    "        return group\n",
    "  \n",
    "    df_grouped = df_reset.groupby(group_cols).apply(\n",
    "        lambda x: calculate_rolling_stats(x, window)\n",
    "    )\n",
    "    \n",
    "    \n",
    "    df_grouped = df_grouped.reset_index(drop=True)\n",
    "    \n",
    "     \n",
    "    for col in [f'retail_ma_{window}', f'retail_std_{window}', f'retail_min_{window}', f'retail_max_{window}']:\n",
    "        df[col] = df_grouped[col]  \n",
    "\n",
    "print(f\"  Created {len(windows) * 4} rolling window features\")"
   ]
  },
  {
   "cell_type": "markdown",
   "id": "36df286b",
   "metadata": {},
   "source": [
    "#### 2.4  MOMENTUM FEATURES (Price trends)"
   ]
  },
  {
   "cell_type": "code",
   "execution_count": 35,
   "id": "c01e05a9",
   "metadata": {},
   "outputs": [
    {
     "name": "stdout",
     "output_type": "stream",
     "text": [
      "\n",
      "[2.4] Creating momentum features...\n",
      "  Created 5 momentum features\n"
     ]
    }
   ],
   "source": [
    "print(\"\\n[2.4] Creating momentum features...\")\n",
    "df['price_volatility_7d'] = df['retail_max_7'] - df['retail_min_7']\n",
    "df['price_volatility_30d'] = df['retail_max_30'] - df['retail_min_30']\n",
    " \n",
    "df['price_momentum_7d'] = np.nan\n",
    "df['price_momentum_30d'] = np.nan\n",
    "df['price_change_rate'] = np.nan\n",
    "\n",
    " \n",
    "for name, group in df.groupby(group_cols):\n",
    "    group_idx = group.index\n",
    "    group_sorted = group.sort_values('Date')\n",
    "    \n",
    "    df.loc[group_idx, 'price_momentum_7d'] = group_sorted['Retail'].diff(7).values\n",
    "    df.loc[group_idx, 'price_momentum_30d'] = group_sorted['Retail'].diff(30).values\n",
    "    df.loc[group_idx, 'price_change_rate'] = group_sorted['Retail'].pct_change().values\n",
    "\n",
    "print(f\"  Created 5 momentum features\")"
   ]
  },
  {
   "cell_type": "markdown",
   "id": "95033585",
   "metadata": {},
   "source": [
    "#### 2.5   AGGREGATE FEATURES  "
   ]
  },
  {
   "cell_type": "code",
   "execution_count": 36,
   "id": "34f2c06c",
   "metadata": {},
   "outputs": [
    {
     "name": "stdout",
     "output_type": "stream",
     "text": [
      "\n",
      "[2.5] Creating aggregate features...\n"
     ]
    }
   ],
   "source": [
    "print(\"\\n[2.5] Creating aggregate features...\")\n",
    "\n",
    "# Initialize new columns\n",
    "df['commodity_expanding_mean'] = np.nan\n",
    "df['county_expanding_mean'] = np.nan\n",
    "df['market_expanding_mean'] = np.nan"
   ]
  },
  {
   "cell_type": "code",
   "execution_count": 37,
   "id": "028d9f20",
   "metadata": {},
   "outputs": [],
   "source": [
    "for name, group in df.groupby('Commodity'):\n",
    "    group_idx = group.index\n",
    "    group_sorted = group.sort_values('Date')\n",
    "    df.loc[group_idx, 'commodity_expanding_mean'] = group_sorted['Retail'].shift(1).expanding(min_periods=1).mean().values\n",
    "\n",
    "for name, group in df.groupby('County'):\n",
    "    group_idx = group.index\n",
    "    group_sorted = group.sort_values('Date')\n",
    "    df.loc[group_idx, 'county_expanding_mean'] = group_sorted['Retail'].shift(1).expanding(min_periods=1).mean().values\n",
    "\n",
    "for name, group in df.groupby('Market'):\n",
    "    group_idx = group.index\n",
    "    group_sorted = group.sort_values('Date')\n",
    "    df.loc[group_idx, 'market_expanding_mean'] = group_sorted['Retail'].shift(1).expanding(min_periods=1).mean().values"
   ]
  },
  {
   "cell_type": "code",
   "execution_count": 38,
   "id": "a2cc1d89",
   "metadata": {},
   "outputs": [],
   "source": [
    "# Price deviations from averages\n",
    "df['price_vs_commodity_avg'] = df['Retail'] - df['commodity_expanding_mean']\n",
    "df['price_vs_county_avg'] = df['Retail'] - df['county_expanding_mean']\n",
    "df['price_vs_market_avg'] = df['Retail'] - df['market_expanding_mean']"
   ]
  },
  {
   "cell_type": "code",
   "execution_count": 39,
   "id": "434a9601",
   "metadata": {},
   "outputs": [
    {
     "name": "stdout",
     "output_type": "stream",
     "text": [
      "  ✓ Created 8 aggregate features\n"
     ]
    }
   ],
   "source": [
    "# Supply features\n",
    "if 'Supply Volume' in df.columns:\n",
    "    df['supply_volume_log'] = np.log1p(df['Supply Volume'])\n",
    "    df['supply_change'] = np.nan\n",
    "    for name, group in df.groupby(group_cols):\n",
    "        group_idx = group.index\n",
    "        group_sorted = group.sort_values('Date')\n",
    "        df.loc[group_idx, 'supply_change'] = group_sorted['Supply Volume'].diff().values\n",
    "\n",
    "print(f\"  ✓ Created 8 aggregate features\")"
   ]
  },
  {
   "cell_type": "markdown",
   "id": "af98e18d",
   "metadata": {},
   "source": [
    "### 3. Categorical Encoding"
   ]
  },
  {
   "cell_type": "code",
   "execution_count": 40,
   "id": "60231ffd",
   "metadata": {},
   "outputs": [
    {
     "name": "stdout",
     "output_type": "stream",
     "text": [
      "\n",
      "Selecting top categories:\n",
      "  Commodity: 10 categories\n",
      "  County: 10 categories\n",
      "  Market: 10 categories\n",
      "Created categorical dummy variables\n"
     ]
    }
   ],
   "source": [
    "# Get top categories to reduce dimensionality\n",
    "print(\"\\nSelecting top categories:\")\n",
    "for col in ['Commodity', 'County', 'Market']:\n",
    "    if col in df.columns:\n",
    "        top_categories = df[col].value_counts().head(10).index\n",
    "        print(f\"  {col}: {len(top_categories)} categories\")\n",
    "        \n",
    "        for category in top_categories:\n",
    "            safe_name = category.replace(' ', '_').replace('/', '_').replace('-', '_')\n",
    "            feature_name = f\"{col}_{safe_name}\"\n",
    "            df[feature_name] = (df[col] == category).astype(int)\n",
    "\n",
    "print(\"Created categorical dummy variables\")"
   ]
  },
  {
   "cell_type": "markdown",
   "id": "dfc2f1e4",
   "metadata": {},
   "source": [
    "### 4. Prepare Training Data"
   ]
  },
  {
   "cell_type": "code",
   "execution_count": 41,
   "id": "b9d642a6",
   "metadata": {},
   "outputs": [],
   "source": [
    "# Define feature columns \n",
    "exclude_cols = [\n",
    "    'Date', 'Retail', 'Wholesale',   \n",
    "    'Commodity', 'County', 'Market',   \n",
    "    'Classification', 'Grade', 'Sex', 'ProductID', 'ProductName', 'Supply Volume'\n",
    "]\n",
    "\n",
    "feature_cols = [col for col in df.columns if col not in exclude_cols]"
   ]
  },
  {
   "cell_type": "code",
   "execution_count": 42,
   "id": "30eee3e0",
   "metadata": {},
   "outputs": [
    {
     "name": "stdout",
     "output_type": "stream",
     "text": [
      "Removed rows with missing critical features\n",
      "Remaining rows: 240,061\n"
     ]
    }
   ],
   "source": [
    "# Remove rows with NaN in critical features\n",
    "critical_features = ['retail_lag_1', 'retail_lag_2', 'month', 'year']\n",
    "df_clean = df.dropna(subset=critical_features + ['Retail'])\n",
    "print(f\"Removed rows with missing critical features\")\n",
    "print(f\"Remaining rows: {len(df_clean):,}\")"
   ]
  },
  {
   "cell_type": "code",
   "execution_count": 43,
   "id": "2464fd38",
   "metadata": {},
   "outputs": [],
   "source": [
    "# Fill remaining NaN with median  \n",
    "for col in feature_cols:\n",
    "    if col in df_clean.columns and df_clean[col].isna().any():\n",
    "        df_clean[col] = df_clean[col].fillna(df_clean[col].median())"
   ]
  },
  {
   "cell_type": "code",
   "execution_count": 44,
   "id": "6f3ab2a7",
   "metadata": {},
   "outputs": [],
   "source": [
    "# Final feature matrix\n",
    "X = df_clean[feature_cols].copy()\n",
    "y = df_clean['Retail'].copy()"
   ]
  },
  {
   "cell_type": "code",
   "execution_count": 45,
   "id": "f8a68cb4",
   "metadata": {},
   "outputs": [],
   "source": [
    "# Handle any infinite values\n",
    "X = X.replace([np.inf, -np.inf], np.nan)\n",
    "X = X.fillna(X.median())"
   ]
  },
  {
   "cell_type": "code",
   "execution_count": 46,
   "id": "a4c6a30e",
   "metadata": {},
   "outputs": [
    {
     "name": "stdout",
     "output_type": "stream",
     "text": [
      "\n",
      "FINAL DATASET READY:\n",
      "  Total features: 82\n",
      "  Total samples: 240,061\n",
      "  Target (Retail) - Mean: 164.52 KES, Std: 198.62 KES\n",
      "  Date range: 2021-05-24 00:00:00 to 2025-09-17 00:00:00\n",
      "  NaN values: 0\n"
     ]
    }
   ],
   "source": [
    "print(f\"\\nFINAL DATASET READY:\")\n",
    "print(f\"  Total features: {X.shape[1]}\")\n",
    "print(f\"  Total samples: {X.shape[0]:,}\")\n",
    "print(f\"  Target (Retail) - Mean: {y.mean():.2f} KES, Std: {y.std():.2f} KES\")\n",
    "print(f\"  Date range: {df_clean['Date'].min()} to {df_clean['Date'].max()}\")\n",
    "print(f\"  NaN values: {X.isna().sum().sum()}\")"
   ]
  },
  {
   "cell_type": "markdown",
   "id": "cb680cc7",
   "metadata": {},
   "source": [
    "### 5. Model Training and Evaluation"
   ]
  },
  {
   "cell_type": "code",
   "execution_count": 47,
   "id": "ce5fe8b7",
   "metadata": {},
   "outputs": [],
   "source": [
    "# Feature scaling\n",
    "scaler = StandardScaler()"
   ]
  },
  {
   "cell_type": "code",
   "execution_count": 48,
   "id": "c16bfca6",
   "metadata": {},
   "outputs": [],
   "source": [
    "# Time Series Split \n",
    "tscv = TimeSeriesSplit(n_splits=5)"
   ]
  },
  {
   "cell_type": "code",
   "execution_count": 49,
   "id": "97acd184",
   "metadata": {},
   "outputs": [],
   "source": [
    "# Define models\n",
    "models = {\n",
    "    'Random Forest': RandomForestRegressor(\n",
    "        n_estimators=100,\n",
    "        max_depth=15,\n",
    "        min_samples_split=50,\n",
    "        min_samples_leaf=20,\n",
    "        max_features='sqrt',\n",
    "        random_state=42,\n",
    "        n_jobs=-1,\n",
    "        verbose=0\n",
    "    ),\n",
    "    'Gradient Boosting': GradientBoostingRegressor(\n",
    "        n_estimators=100,\n",
    "        max_depth=5,\n",
    "        learning_rate=0.1,\n",
    "        min_samples_split=50,\n",
    "        random_state=42,\n",
    "        verbose=0\n",
    "    )\n",
    "}\n",
    "\n",
    "results = {}\n",
    "best_model_obj = None\n",
    "best_model_name = None"
   ]
  },
  {
   "cell_type": "code",
   "execution_count": 50,
   "id": "fb63cf08",
   "metadata": {},
   "outputs": [
    {
     "name": "stdout",
     "output_type": "stream",
     "text": [
      "\n",
      "================================================================================\n",
      "Training: Random Forest\n",
      "================================================================================\n",
      "Fold 1: MAE=14.20 KES, RMSE=37.76 KES, R²=0.8598, MAPE=24.09%\n",
      "Fold 2: MAE=24.79 KES, RMSE=144.54 KES, R²=0.6784, MAPE=18.41%\n",
      "Fold 3: MAE=17.61 KES, RMSE=43.55 KES, R²=0.9690, MAPE=23.92%\n",
      "Fold 4: MAE=11.90 KES, RMSE=61.93 KES, R²=0.9212, MAPE=13.64%\n",
      "Fold 5: MAE=9.01 KES, RMSE=27.31 KES, R²=0.9746, MAPE=10.85%\n",
      "\n",
      "Random Forest - AVERAGE RESULTS:\n",
      "  MAE:  15.50 ± 5.43 KES\n",
      "  RMSE: 63.02 ± 42.28 KES\n",
      "  R²:   0.8806 ± 0.1092\n",
      "  MAPE: 18.18 ± 5.34%\n",
      "\n",
      "================================================================================\n",
      "Training: Gradient Boosting\n",
      "================================================================================\n",
      "Fold 1: MAE=6.26 KES, RMSE=21.23 KES, R²=0.9557, MAPE=12.02%\n",
      "Fold 2: MAE=12.71 KES, RMSE=56.50 KES, R²=0.9509, MAPE=6.98%\n",
      "Fold 3: MAE=9.11 KES, RMSE=17.13 KES, R²=0.9952, MAPE=7.57%\n",
      "Fold 4: MAE=4.82 KES, RMSE=12.10 KES, R²=0.9970, MAPE=4.39%\n",
      "Fold 5: MAE=4.14 KES, RMSE=9.16 KES, R²=0.9971, MAPE=3.94%\n",
      "\n",
      "Gradient Boosting - AVERAGE RESULTS:\n",
      "  MAE:  7.41 ± 3.15 KES\n",
      "  RMSE: 23.22 ± 17.15 KES\n",
      "  R²:   0.9792 ± 0.0212\n",
      "  MAPE: 6.98 ± 2.89%\n"
     ]
    }
   ],
   "source": [
    "for model_name, model in models.items():\n",
    "    print(f\"\\n{'='*80}\")\n",
    "    print(f\"Training: {model_name}\")\n",
    "    print(f\"{'='*80}\")\n",
    "    \n",
    "    fold_mae, fold_rmse, fold_r2, fold_mape = [], [], [], []\n",
    "    \n",
    "    for fold, (train_idx, test_idx) in enumerate(tscv.split(X)):\n",
    "        # Split data\n",
    "        X_train, X_test = X.iloc[train_idx].copy(), X.iloc[test_idx].copy()\n",
    "        y_train, y_test = y.iloc[train_idx].copy(), y.iloc[test_idx].copy()\n",
    "        \n",
    "        # Scale features\n",
    "        X_train_scaled = scaler.fit_transform(X_train)\n",
    "        X_test_scaled = scaler.transform(X_test)\n",
    "        \n",
    "        # Train model\n",
    "        model.fit(X_train_scaled, y_train)\n",
    "        \n",
    "        # Predict\n",
    "        y_pred = model.predict(X_test_scaled)\n",
    "        \n",
    "        # Calculate metrics\n",
    "        mae = mean_absolute_error(y_test, y_pred)\n",
    "        rmse = np.sqrt(mean_squared_error(y_test, y_pred))\n",
    "        r2 = r2_score(y_test, y_pred)\n",
    "        mape = mean_absolute_percentage_error(y_test, y_pred) * 100\n",
    "        \n",
    "        fold_mae.append(mae)\n",
    "        fold_rmse.append(rmse)\n",
    "        fold_r2.append(r2)\n",
    "        fold_mape.append(mape)\n",
    "        \n",
    "        print(f\"Fold {fold + 1}: MAE={mae:.2f} KES, RMSE={rmse:.2f} KES, R²={r2:.4f}, MAPE={mape:.2f}%\")\n",
    "    \n",
    "    # Store results\n",
    "    results[model_name] = {\n",
    "        'MAE': (np.mean(fold_mae), np.std(fold_mae)),\n",
    "        'RMSE': (np.mean(fold_rmse), np.std(fold_rmse)),\n",
    "        'R²': (np.mean(fold_r2), np.std(fold_r2)),\n",
    "        'MAPE': (np.mean(fold_mape), np.std(fold_mape))\n",
    "    }\n",
    "    \n",
    "    print(f\"\\n{model_name} - AVERAGE RESULTS:\")\n",
    "    print(f\"  MAE:  {np.mean(fold_mae):.2f} ± {np.std(fold_mae):.2f} KES\")\n",
    "    print(f\"  RMSE: {np.mean(fold_rmse):.2f} ± {np.std(fold_rmse):.2f} KES\")\n",
    "    print(f\"  R²:   {np.mean(fold_r2):.4f} ± {np.std(fold_r2):.4f}\")\n",
    "    print(f\"  MAPE: {np.mean(fold_mape):.2f} ± {np.std(fold_mape):.2f}%\")\n"
   ]
  },
  {
   "cell_type": "markdown",
   "id": "1ae863a7",
   "metadata": {},
   "source": [
    "### 6. Feature Importance Analysis"
   ]
  },
  {
   "cell_type": "code",
   "execution_count": 51,
   "id": "f3ae3df1",
   "metadata": {},
   "outputs": [
    {
     "data": {
      "text/html": [
       "<style>#sk-container-id-1 {color: black;}#sk-container-id-1 pre{padding: 0;}#sk-container-id-1 div.sk-toggleable {background-color: white;}#sk-container-id-1 label.sk-toggleable__label {cursor: pointer;display: block;width: 100%;margin-bottom: 0;padding: 0.3em;box-sizing: border-box;text-align: center;}#sk-container-id-1 label.sk-toggleable__label-arrow:before {content: \"▸\";float: left;margin-right: 0.25em;color: #696969;}#sk-container-id-1 label.sk-toggleable__label-arrow:hover:before {color: black;}#sk-container-id-1 div.sk-estimator:hover label.sk-toggleable__label-arrow:before {color: black;}#sk-container-id-1 div.sk-toggleable__content {max-height: 0;max-width: 0;overflow: hidden;text-align: left;background-color: #f0f8ff;}#sk-container-id-1 div.sk-toggleable__content pre {margin: 0.2em;color: black;border-radius: 0.25em;background-color: #f0f8ff;}#sk-container-id-1 input.sk-toggleable__control:checked~div.sk-toggleable__content {max-height: 200px;max-width: 100%;overflow: auto;}#sk-container-id-1 input.sk-toggleable__control:checked~label.sk-toggleable__label-arrow:before {content: \"▾\";}#sk-container-id-1 div.sk-estimator input.sk-toggleable__control:checked~label.sk-toggleable__label {background-color: #d4ebff;}#sk-container-id-1 div.sk-label input.sk-toggleable__control:checked~label.sk-toggleable__label {background-color: #d4ebff;}#sk-container-id-1 input.sk-hidden--visually {border: 0;clip: rect(1px 1px 1px 1px);clip: rect(1px, 1px, 1px, 1px);height: 1px;margin: -1px;overflow: hidden;padding: 0;position: absolute;width: 1px;}#sk-container-id-1 div.sk-estimator {font-family: monospace;background-color: #f0f8ff;border: 1px dotted black;border-radius: 0.25em;box-sizing: border-box;margin-bottom: 0.5em;}#sk-container-id-1 div.sk-estimator:hover {background-color: #d4ebff;}#sk-container-id-1 div.sk-parallel-item::after {content: \"\";width: 100%;border-bottom: 1px solid gray;flex-grow: 1;}#sk-container-id-1 div.sk-label:hover label.sk-toggleable__label {background-color: #d4ebff;}#sk-container-id-1 div.sk-serial::before {content: \"\";position: absolute;border-left: 1px solid gray;box-sizing: border-box;top: 0;bottom: 0;left: 50%;z-index: 0;}#sk-container-id-1 div.sk-serial {display: flex;flex-direction: column;align-items: center;background-color: white;padding-right: 0.2em;padding-left: 0.2em;position: relative;}#sk-container-id-1 div.sk-item {position: relative;z-index: 1;}#sk-container-id-1 div.sk-parallel {display: flex;align-items: stretch;justify-content: center;background-color: white;position: relative;}#sk-container-id-1 div.sk-item::before, #sk-container-id-1 div.sk-parallel-item::before {content: \"\";position: absolute;border-left: 1px solid gray;box-sizing: border-box;top: 0;bottom: 0;left: 50%;z-index: -1;}#sk-container-id-1 div.sk-parallel-item {display: flex;flex-direction: column;z-index: 1;position: relative;background-color: white;}#sk-container-id-1 div.sk-parallel-item:first-child::after {align-self: flex-end;width: 50%;}#sk-container-id-1 div.sk-parallel-item:last-child::after {align-self: flex-start;width: 50%;}#sk-container-id-1 div.sk-parallel-item:only-child::after {width: 0;}#sk-container-id-1 div.sk-dashed-wrapped {border: 1px dashed gray;margin: 0 0.4em 0.5em 0.4em;box-sizing: border-box;padding-bottom: 0.4em;background-color: white;}#sk-container-id-1 div.sk-label label {font-family: monospace;font-weight: bold;display: inline-block;line-height: 1.2em;}#sk-container-id-1 div.sk-label-container {text-align: center;}#sk-container-id-1 div.sk-container {/* jupyter's `normalize.less` sets `[hidden] { display: none; }` but bootstrap.min.css set `[hidden] { display: none !important; }` so we also need the `!important` here to be able to override the default hidden behavior on the sphinx rendered scikit-learn.org. See: https://github.com/scikit-learn/scikit-learn/issues/21755 */display: inline-block !important;position: relative;}#sk-container-id-1 div.sk-text-repr-fallback {display: none;}</style><div id=\"sk-container-id-1\" class=\"sk-top-container\"><div class=\"sk-text-repr-fallback\"><pre>RandomForestRegressor(max_depth=15, min_samples_split=50, n_jobs=-1,\n",
       "                      random_state=42)</pre><b>In a Jupyter environment, please rerun this cell to show the HTML representation or trust the notebook. <br />On GitHub, the HTML representation is unable to render, please try loading this page with nbviewer.org.</b></div><div class=\"sk-container\" hidden><div class=\"sk-item\"><div class=\"sk-estimator sk-toggleable\"><input class=\"sk-toggleable__control sk-hidden--visually\" id=\"sk-estimator-id-1\" type=\"checkbox\" checked><label for=\"sk-estimator-id-1\" class=\"sk-toggleable__label sk-toggleable__label-arrow\">RandomForestRegressor</label><div class=\"sk-toggleable__content\"><pre>RandomForestRegressor(max_depth=15, min_samples_split=50, n_jobs=-1,\n",
       "                      random_state=42)</pre></div></div></div></div></div>"
      ],
      "text/plain": [
       "RandomForestRegressor(max_depth=15, min_samples_split=50, n_jobs=-1,\n",
       "                      random_state=42)"
      ]
     },
     "execution_count": 51,
     "metadata": {},
     "output_type": "execute_result"
    }
   ],
   "source": [
    "# Training Random Forest on all data for feature importance\n",
    "rf_final = RandomForestRegressor(\n",
    "    n_estimators=100,\n",
    "    max_depth=15,\n",
    "    min_samples_split=50,\n",
    "    random_state=42,\n",
    "    n_jobs=-1\n",
    ")\n",
    "\n",
    "X_scaled = scaler.fit_transform(X)\n",
    "rf_final.fit(X_scaled, y)"
   ]
  },
  {
   "cell_type": "code",
   "execution_count": 52,
   "id": "ac44a49d",
   "metadata": {},
   "outputs": [
    {
     "name": "stdout",
     "output_type": "stream",
     "text": [
      "\n",
      "Top 20 Most Important Features:\n",
      "                 feature  importance\n",
      "     price_vs_county_avg    0.828165\n",
      "            retail_lag_1    0.118420\n",
      "            retail_lag_2    0.028121\n",
      "   county_expanding_mean    0.010293\n",
      "       price_change_rate    0.009765\n",
      "  price_vs_commodity_avg    0.002888\n",
      "            retail_lag_3    0.000748\n",
      "     price_vs_market_avg    0.000653\n",
      "commodity_expanding_mean    0.000416\n",
      "   market_expanding_mean    0.000106\n",
      "   Commodity_Maize_Flour    0.000084\n",
      "           retail_lag_30    0.000038\n",
      "           retail_lag_14    0.000033\n",
      "   Commodity_Wheat_Flour    0.000031\n",
      "            retail_lag_7    0.000029\n",
      "       price_momentum_7d    0.000016\n",
      "         wholesale_lag_2    0.000016\n",
      "         wholesale_lag_1    0.000012\n",
      "             Market_Aram    0.000011\n",
      "            retail_ma_30    0.000010\n"
     ]
    }
   ],
   "source": [
    "# Get feature importance\n",
    "feature_importance = pd.DataFrame({\n",
    "    'feature': X.columns,\n",
    "    'importance': rf_final.feature_importances_\n",
    "}).sort_values('importance', ascending=False)\n",
    "\n",
    "print(\"\\nTop 20 Most Important Features:\")\n",
    "print(feature_importance.head(20).to_string(index=False))"
   ]
  },
  {
   "cell_type": "markdown",
   "id": "a60534b9",
   "metadata": {},
   "source": [
    "### 7. Final results and recommendations"
   ]
  },
  {
   "cell_type": "code",
   "execution_count": 53,
   "id": "c4a9ff2f",
   "metadata": {},
   "outputs": [],
   "source": [
    "best_model_name = min(results.keys(), key=lambda x: results[x]['MAE'][0])\n",
    "best_mae = results[best_model_name]['MAE'][0]\n",
    "best_rmse = results[best_model_name]['RMSE'][0]\n",
    "best_r2 = results[best_model_name]['R²'][0]\n",
    "best_mape = results[best_model_name]['MAPE'][0]"
   ]
  },
  {
   "cell_type": "code",
   "execution_count": 54,
   "id": "cd05e3ce",
   "metadata": {},
   "outputs": [
    {
     "name": "stdout",
     "output_type": "stream",
     "text": [
      "\n",
      "BEST MODEL: Gradient Boosting\n",
      "================================================================================\n",
      "  MAE:  7.41 KES\n",
      "  RMSE: 23.22 KES\n",
      "  R²:   0.9792\n",
      "  MAPE: 6.98%\n",
      "\n",
      "  MAE as % of mean price: 4.5%\n"
     ]
    }
   ],
   "source": [
    "print(f\"\\nBEST MODEL: {best_model_name}\")\n",
    "print(f\"{'='*80}\")\n",
    "print(f\"  MAE:  {best_mae:.2f} KES\")\n",
    "print(f\"  RMSE: {best_rmse:.2f} KES\")\n",
    "print(f\"  R²:   {best_r2:.4f}\")\n",
    "print(f\"  MAPE: {best_mape:.2f}%\")\n",
    "print(f\"\\n  MAE as % of mean price: {(best_mae / y.mean() * 100):.1f}%\")"
   ]
  },
  {
   "cell_type": "code",
   "execution_count": 55,
   "id": "3fdb88a9",
   "metadata": {},
   "outputs": [
    {
     "name": "stdout",
     "output_type": "stream",
     "text": [
      "\n",
      "MODEL COMPARISON:\n",
      "================================================================================\n",
      "\n",
      "Random Forest:\n",
      "  MAE:  15.50 ± 5.43 KES\n",
      "  RMSE: 63.02 ± 42.28 KES\n",
      "  R²:   0.8806 ± 0.1092\n",
      "\n",
      "Gradient Boosting:\n",
      "  MAE:  7.41 ± 3.15 KES\n",
      "  RMSE: 23.22 ± 17.15 KES\n",
      "  R²:   0.9792 ± 0.0212\n"
     ]
    }
   ],
   "source": [
    "print(f\"\\nMODEL COMPARISON:\")\n",
    "print(f\"{'='*80}\")\n",
    "for model_name, metrics in results.items():\n",
    "    print(f\"\\n{model_name}:\")\n",
    "    print(f\"  MAE:  {metrics['MAE'][0]:.2f} ± {metrics['MAE'][1]:.2f} KES\")\n",
    "    print(f\"  RMSE: {metrics['RMSE'][0]:.2f} ± {metrics['RMSE'][1]:.2f} KES\")\n",
    "    print(f\"  R²:   {metrics['R²'][0]:.4f} ± {metrics['R²'][1]:.4f}\")"
   ]
  },
  {
   "cell_type": "markdown",
   "id": "cb430923",
   "metadata": {},
   "source": [
    "### 8. Saving the model"
   ]
  },
  {
   "cell_type": "code",
   "execution_count": 56,
   "id": "108877c9",
   "metadata": {},
   "outputs": [
    {
     "name": "stdout",
     "output_type": "stream",
     "text": [
      "Model saved to ../models/\n"
     ]
    }
   ],
   "source": [
    "import joblib\n",
    "joblib.dump(rf_final, '../models/price_model.pkl')\n",
    "joblib.dump(scaler, '../models/scaler.pkl')\n",
    "print(\"Model saved to ../models/\")"
   ]
  },
  {
   "cell_type": "code",
   "execution_count": null,
   "id": "4809a2e2",
   "metadata": {},
   "outputs": [],
   "source": []
  }
 ],
 "metadata": {
  "kernelspec": {
   "display_name": "Python 3",
   "language": "python",
   "name": "python3"
  },
  "language_info": {
   "codemirror_mode": {
    "name": "ipython",
    "version": 3
   },
   "file_extension": ".py",
   "mimetype": "text/x-python",
   "name": "python",
   "nbconvert_exporter": "python",
   "pygments_lexer": "ipython3",
   "version": "3.8.8"
  }
 },
 "nbformat": 4,
 "nbformat_minor": 5
}
